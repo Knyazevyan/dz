{
 "cells": [
  {
   "cell_type": "code",
   "execution_count": 1,
   "id": "bffe4313",
   "metadata": {},
   "outputs": [
    {
     "name": "stdout",
     "output_type": "stream",
     "text": [
      "   human  robot\n",
      "0      1      0\n",
      "1      1      0\n",
      "2      0      1\n",
      "3      1      0\n",
      "4      0      1\n"
     ]
    }
   ],
   "source": [
    "import pandas as pd\n",
    "import numpy as np\n",
    "import random\n",
    "\n",
    "lst = ['robot'] * 10\n",
    "lst += ['human'] * 10\n",
    "random.shuffle(lst)\n",
    "data = pd.DataFrame({'whoAmI': lst})\n",
    "\n",
    "# Получаем уникальные значения столбца 'whoAmI'\n",
    "unique_values = np.unique(data['whoAmI'])\n",
    "\n",
    "# Создаем пустой DataFrame с нулями и именами колонок по уникальным значениям\n",
    "one_hot_encoded = pd.DataFrame(0, columns=unique_values, index=np.arange(len(data)))\n",
    "\n",
    "# Присваиваем 1 для каждого значения в соответствующей колонке\n",
    "for i, val in enumerate(data['whoAmI']):\n",
    "    one_hot_encoded.loc[i, val] = 1\n",
    "\n",
    "print(one_hot_encoded.head())\n"
   ]
  }
 ],
 "metadata": {
  "kernelspec": {
   "display_name": "Python 3 (ipykernel)",
   "language": "python",
   "name": "python3"
  },
  "language_info": {
   "codemirror_mode": {
    "name": "ipython",
    "version": 3
   },
   "file_extension": ".py",
   "mimetype": "text/x-python",
   "name": "python",
   "nbconvert_exporter": "python",
   "pygments_lexer": "ipython3",
   "version": "3.11.4"
  }
 },
 "nbformat": 4,
 "nbformat_minor": 5
}
